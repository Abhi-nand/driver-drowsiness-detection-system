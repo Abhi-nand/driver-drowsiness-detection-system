{
 "cells": [
  {
   "cell_type": "code",
   "execution_count": 2,
   "metadata": {},
   "outputs": [
    {
     "name": "stdout",
     "output_type": "stream",
     "text": [
      "pygame 2.0.1 (SDL 2.0.14, Python 3.8.5)\n",
      "Hello from the pygame community. https://www.pygame.org/contribute.html\n"
     ]
    }
   ],
   "source": [
    "import cv2\n",
    "from keras.models import load_model\n",
    "import numpy as np\n",
    "from pygame import mixer"
   ]
  },
  {
   "cell_type": "code",
   "execution_count": 3,
   "metadata": {},
   "outputs": [
    {
     "name": "stderr",
     "output_type": "stream",
     "text": [
      "<ipython-input-3-c170dcb43c24>:18: DeprecationWarning: elementwise comparison failed; this will raise an error in the future.\n",
      "  if eyes == ():\n",
      "E:\\anaconda\\lib\\site-packages\\keras\\engine\\sequential.py:450: UserWarning: `model.predict_classes()` is deprecated and will be removed after 2021-01-01. Please use instead:* `np.argmax(model.predict(x), axis=-1)`,   if your model does multi-class classification   (e.g. if it uses a `softmax` last-layer activation).* `(model.predict(x) > 0.5).astype(\"int32\")`,   if your model does binary classification   (e.g. if it uses a `sigmoid` last-layer activation).\n",
      "  warnings.warn('`model.predict_classes()` is deprecated and '\n",
      "<ipython-input-3-c170dcb43c24>:18: DeprecationWarning: elementwise comparison failed; this will raise an error in the future.\n",
      "  if eyes == ():\n",
      "E:\\anaconda\\lib\\site-packages\\keras\\engine\\sequential.py:450: UserWarning: `model.predict_classes()` is deprecated and will be removed after 2021-01-01. Please use instead:* `np.argmax(model.predict(x), axis=-1)`,   if your model does multi-class classification   (e.g. if it uses a `softmax` last-layer activation).* `(model.predict(x) > 0.5).astype(\"int32\")`,   if your model does binary classification   (e.g. if it uses a `sigmoid` last-layer activation).\n",
      "  warnings.warn('`model.predict_classes()` is deprecated and '\n"
     ]
    }
   ],
   "source": [
    "# load alarm\n",
    "mixer.init()\n",
    "sound = mixer.Sound('alarm.wav')\n",
    "\n",
    "# haar cascade files are uesd for the detection of face and eye.\n",
    "face=cv2.CascadeClassifier('haar cascade files\\haarcascade_frontalface_alt.xml')\n",
    "leye=cv2.CascadeClassifier('haar cascade files\\haarcascade_lefteye_2splits.xml')\n",
    "reye=cv2.CascadeClassifier('haar cascade files\\haarcascade_righteye_2splits.xml')\n",
    "\n",
    "# loading model \n",
    "model = load_model('models/cnn.h5')\n",
    "\n",
    "score=0\n",
    "thicc=2\n",
    "\n",
    "# categorize whether eyes in open or closed\n",
    "def prediction(eyes):\n",
    "    if eyes == ():\n",
    "        pred = [2]\n",
    "        return(pred)\n",
    "    else:\n",
    "        for (x,y,w,h) in eyes:\n",
    "            eye= gray[y:y+h,x:x+w] \n",
    "            # modifing the eye for making it fit for the model input.\n",
    "            eye = cv2.resize(eye,(24,24))\n",
    "            eye = eye/255 # rescaling\n",
    "            eye = eye.reshape(1,24,24,1) # model expects a 4-dimensional array with shape [n,h,w,c] as an input.\n",
    "            # feding it into the model and if it return 1 it means eye is open and if its 0 the eye is closed \n",
    "            pred = model.predict_classes(eye)\n",
    "        return(pred)\n",
    "    \n",
    "# accessing webcam\n",
    "cap = cv2.VideoCapture(0)\n",
    "while(True):\n",
    "    # reading the video frame by frame and storing it into frame variable and \n",
    "    ret, frame = cap.read()\n",
    "    \n",
    "    # stores dimensions of the frames\n",
    "    height,width = frame.shape[:2]\n",
    "\n",
    "    # converting an BRG (blue, red, green) image into gray image\n",
    "    gray = cv2.cvtColor(frame, cv2.COLOR_BGR2GRAY)\n",
    "    \n",
    "    # faces, left_eye and right_eye will store the coordinates of face and both the eyes\n",
    "    faces = face.detectMultiScale(gray,minNeighbors=5,scaleFactor=1.1,minSize=(25,25))\n",
    "    left_eye = leye.detectMultiScale(gray)\n",
    "    right_eye = reye.detectMultiScale(gray)\n",
    "    \n",
    "    # buliding a black rectangle at the right corner.\n",
    "    cv2.rectangle(frame, (0,height-50) , (260,height) , (0,0,0) , thickness=cv2.FILLED )\n",
    "    \n",
    "    # build a rectangle around the face\n",
    "    for (x,y,w,h) in faces:\n",
    "        cv2.rectangle(frame, (x,y) , (x+w,y+h) , (0,255,0) , 1 )\n",
    "    for (x,y,w,h) in left_eye:\n",
    "        cv2.rectangle(frame, (x,y) , (x+w,y+h) , (0,255,0) , 1 )\n",
    "    for (x,y,w,h) in right_eye:\n",
    "        cv2.rectangle(frame, (x,y) , (x+w,y+h) , (0,255,0) , 1 )\n",
    "    \n",
    "    rpred = prediction(right_eye)\n",
    "    lpred = prediction(left_eye)\n",
    "    \n",
    "    # score calculation.\n",
    "    if(rpred[0]==0 and lpred[0]==0):\n",
    "        score=min(score+1,20)\n",
    "        cv2.putText(frame,\"Closed\",(10,height-20), cv2.FONT_HERSHEY_COMPLEX_SMALL, 1,(255,255,255),1,cv2.LINE_AA)\n",
    "        cv2.putText(frame,'Score:'+str(score),(100,height-20),cv2.FONT_HERSHEY_COMPLEX_SMALL , 1,(255,255,255),1,cv2.LINE_AA)\n",
    "    elif (rpred[0]==2 and lpred[0]==2):\n",
    "        score = 0\n",
    "        cv2.rectangle(frame, (10,height-20) , (10,height-20) , (0,0,0) , thickness=cv2.FILLED )\n",
    "        cv2.putText(frame,\"NO ONE IS PRESENT\",(10,height-20), cv2.FONT_HERSHEY_COMPLEX_SMALL, 1,(255,255,255),1,cv2.LINE_AA)\n",
    "    \n",
    "    elif (rpred[0]==1 and lpred[0]==1):\n",
    "        score=max(score-1,0)\n",
    "        cv2.putText(frame,\"Open\",(10,height-20), cv2.FONT_HERSHEY_COMPLEX_SMALL, 1,(255,255,255),1,cv2.LINE_AA)\n",
    "        cv2.putText(frame,'Score:'+str(score),(100,height-20),cv2.FONT_HERSHEY_COMPLEX_SMALL , 1,(255,255,255),1,cv2.LINE_AA)\n",
    "    \n",
    "    # alarming sound\n",
    "    if(score>10):\n",
    "        #person is feeling sleepy so we beep the alarm\n",
    "        sound.play()\n",
    "        if score<5: sound.stop()\n",
    "        #  this add a red boundary.\n",
    "        cv2.rectangle(frame,(0,0),(width,height),(0,0,255),4) \n",
    "    # display os frames\n",
    "    cv2.imshow('frame',frame)\n",
    "    \n",
    "    # waits for key to press (press q to stop the execution)\n",
    "    if cv2.waitKey(1) & 0xFF == ord('q'):\n",
    "        break\n",
    "cap.release()\n",
    "cv2.destroyAllWindows()"
   ]
  },
  {
   "cell_type": "code",
   "execution_count": null,
   "metadata": {},
   "outputs": [],
   "source": []
  },
  {
   "cell_type": "code",
   "execution_count": null,
   "metadata": {},
   "outputs": [],
   "source": []
  }
 ],
 "metadata": {
  "kernelspec": {
   "display_name": "Python 3",
   "language": "python",
   "name": "python3"
  },
  "language_info": {
   "codemirror_mode": {
    "name": "ipython",
    "version": 3
   },
   "file_extension": ".py",
   "mimetype": "text/x-python",
   "name": "python",
   "nbconvert_exporter": "python",
   "pygments_lexer": "ipython3",
   "version": "3.8.5"
  }
 },
 "nbformat": 4,
 "nbformat_minor": 5
}
